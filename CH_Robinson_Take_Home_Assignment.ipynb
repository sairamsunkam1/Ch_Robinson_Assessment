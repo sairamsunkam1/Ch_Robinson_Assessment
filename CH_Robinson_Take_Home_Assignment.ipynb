{
 "cells": [
  {
   "cell_type": "code",
   "execution_count": 1,
   "metadata": {},
   "outputs": [],
   "source": [
    "#Load random forest classifier\n",
    "from sklearn.ensemble import RandomForestClassifier\n",
    "#Pandas\n",
    "import pandas as pd\n",
    "#Numpy\n",
    "import numpy as np"
   ]
  },
  {
   "cell_type": "code",
   "execution_count": null,
   "metadata": {},
   "outputs": [],
   "source": [
    "# Data and Notebook Setup"
   ]
  },
  {
   "cell_type": "code",
   "execution_count": 41,
   "metadata": {},
   "outputs": [],
   "source": [
    "#1. Loading and reading the data from thr csv file\n",
    "\n",
    "fname = \"IMA Recommendation Simulation Data.csv\"\n",
    "dataset = pd.read_csv(fname)"
   ]
  },
  {
   "cell_type": "code",
   "execution_count": 46,
   "metadata": {},
   "outputs": [
    {
     "data": {
      "text/plain": [
       "(161563, 16)"
      ]
     },
     "execution_count": 46,
     "metadata": {},
     "output_type": "execute_result"
    }
   ],
   "source": [
    "# a. Shape of IMA Recommendation Simulation Data file\n",
    "\n",
    "dataset.shape"
   ]
  },
  {
   "cell_type": "code",
   "execution_count": 91,
   "metadata": {},
   "outputs": [
    {
     "name": "stdout",
     "output_type": "stream",
     "text": [
      "['Accepted' 'Rejected' 'Withdrawn' 'Waiting On Acceptance' 'Cancelled' nan\n",
      " 'Waiting On Recommendation' 'NoPace']\n",
      "Number of Unique Categories in Current Condition:  8\n"
     ]
    }
   ],
   "source": [
    "# b. Finding how many unique categories there are for CurrentCondition\n",
    "\n",
    "uniqueCategories = dataset['CurrentCondition'].unique()\n",
    "print(uniqueCategories)\n",
    "numOfCategories = len(uniqueCategories)\n",
    "print(\"Number of Unique Categories in Current Condition: \", numOfCategories)"
   ]
  },
  {
   "cell_type": "code",
   "execution_count": null,
   "metadata": {},
   "outputs": [],
   "source": [
    "# Exploratory Data Analysis\n",
    "# 2. Exploratory Data Analysis is a critical part of a Data Scientist's Job"
   ]
  },
  {
   "cell_type": "code",
   "execution_count": 53,
   "metadata": {},
   "outputs": [
    {
     "name": "stdout",
     "output_type": "stream",
     "text": [
      "request_id is not unique\n"
     ]
    }
   ],
   "source": [
    "# a. Is request_id unique?\n",
    "if dataset['request_id'].is_unique == True:\n",
    "    print(\"request_id is unique\")\n",
    "else:\n",
    "    print(\"request_id is not unique\")\n",
    "    \n",
    "\n"
   ]
  },
  {
   "cell_type": "code",
   "execution_count": 138,
   "metadata": {},
   "outputs": [
    {
     "data": {
      "text/html": [
       "<div>\n",
       "<style scoped>\n",
       "    .dataframe tbody tr th:only-of-type {\n",
       "        vertical-align: middle;\n",
       "    }\n",
       "\n",
       "    .dataframe tbody tr th {\n",
       "        vertical-align: top;\n",
       "    }\n",
       "\n",
       "    .dataframe thead th {\n",
       "        text-align: right;\n",
       "    }\n",
       "</style>\n",
       "<table border=\"1\" class=\"dataframe\">\n",
       "  <thead>\n",
       "    <tr style=\"text-align: right;\">\n",
       "      <th></th>\n",
       "      <th>request_id</th>\n",
       "      <th>week_id</th>\n",
       "      <th>weekday</th>\n",
       "      <th>miles</th>\n",
       "      <th>order_equipment_type</th>\n",
       "      <th>order_distance</th>\n",
       "      <th>order_num_stops</th>\n",
       "      <th>order_origin_weight</th>\n",
       "      <th>lead_days</th>\n",
       "      <th>color</th>\n",
       "      <th>origin_dat_ref</th>\n",
       "      <th>dest_dat_ref</th>\n",
       "      <th>rate_norm</th>\n",
       "      <th>est_cost_norm</th>\n",
       "      <th>CurrentCondition</th>\n",
       "      <th>is_train</th>\n",
       "    </tr>\n",
       "  </thead>\n",
       "  <tbody>\n",
       "    <tr>\n",
       "      <th>81224</th>\n",
       "      <td>f0293ccd87b445f5989c6c68726608dc</td>\n",
       "      <td>3</td>\n",
       "      <td>Fri</td>\n",
       "      <td>147</td>\n",
       "      <td>V</td>\n",
       "      <td>151.0</td>\n",
       "      <td>2</td>\n",
       "      <td>45007.0</td>\n",
       "      <td>3</td>\n",
       "      <td>RED</td>\n",
       "      <td>983</td>\n",
       "      <td>972</td>\n",
       "      <td>-0.621826</td>\n",
       "      <td>-0.353353</td>\n",
       "      <td>Withdrawn</td>\n",
       "      <td>False</td>\n",
       "    </tr>\n",
       "  </tbody>\n",
       "</table>\n",
       "</div>"
      ],
      "text/plain": [
       "                             request_id  week_id weekday  miles  \\\n",
       "81224  f0293ccd87b445f5989c6c68726608dc        3     Fri    147   \n",
       "\n",
       "      order_equipment_type  order_distance  order_num_stops  \\\n",
       "81224                    V           151.0                2   \n",
       "\n",
       "       order_origin_weight  lead_days color  origin_dat_ref  dest_dat_ref  \\\n",
       "81224              45007.0          3   RED             983           972   \n",
       "\n",
       "       rate_norm  est_cost_norm CurrentCondition  is_train  \n",
       "81224  -0.621826      -0.353353        Withdrawn     False  "
      ]
     },
     "execution_count": 138,
     "metadata": {},
     "output_type": "execute_result"
    }
   ],
   "source": [
    "duplicate = dataset[dataset.duplicated()]\n",
    "duplicate"
   ]
  },
  {
   "cell_type": "code",
   "execution_count": 140,
   "metadata": {},
   "outputs": [
    {
     "data": {
      "text/html": [
       "<div>\n",
       "<style scoped>\n",
       "    .dataframe tbody tr th:only-of-type {\n",
       "        vertical-align: middle;\n",
       "    }\n",
       "\n",
       "    .dataframe tbody tr th {\n",
       "        vertical-align: top;\n",
       "    }\n",
       "\n",
       "    .dataframe thead th {\n",
       "        text-align: right;\n",
       "    }\n",
       "</style>\n",
       "<table border=\"1\" class=\"dataframe\">\n",
       "  <thead>\n",
       "    <tr style=\"text-align: right;\">\n",
       "      <th></th>\n",
       "      <th>request_id</th>\n",
       "      <th>week_id</th>\n",
       "      <th>weekday</th>\n",
       "      <th>miles</th>\n",
       "      <th>order_equipment_type</th>\n",
       "      <th>order_distance</th>\n",
       "      <th>order_num_stops</th>\n",
       "      <th>order_origin_weight</th>\n",
       "      <th>lead_days</th>\n",
       "      <th>color</th>\n",
       "      <th>origin_dat_ref</th>\n",
       "      <th>dest_dat_ref</th>\n",
       "      <th>rate_norm</th>\n",
       "      <th>est_cost_norm</th>\n",
       "      <th>CurrentCondition</th>\n",
       "      <th>is_train</th>\n",
       "    </tr>\n",
       "  </thead>\n",
       "  <tbody>\n",
       "    <tr>\n",
       "      <th>81223</th>\n",
       "      <td>f0293ccd87b445f5989c6c68726608dc</td>\n",
       "      <td>3</td>\n",
       "      <td>Fri</td>\n",
       "      <td>147</td>\n",
       "      <td>V</td>\n",
       "      <td>151.0</td>\n",
       "      <td>2</td>\n",
       "      <td>45007.0</td>\n",
       "      <td>3</td>\n",
       "      <td>RED</td>\n",
       "      <td>983</td>\n",
       "      <td>972</td>\n",
       "      <td>-0.621826</td>\n",
       "      <td>-0.353353</td>\n",
       "      <td>Withdrawn</td>\n",
       "      <td>False</td>\n",
       "    </tr>\n",
       "    <tr>\n",
       "      <th>81224</th>\n",
       "      <td>f0293ccd87b445f5989c6c68726608dc</td>\n",
       "      <td>3</td>\n",
       "      <td>Fri</td>\n",
       "      <td>147</td>\n",
       "      <td>V</td>\n",
       "      <td>151.0</td>\n",
       "      <td>2</td>\n",
       "      <td>45007.0</td>\n",
       "      <td>3</td>\n",
       "      <td>RED</td>\n",
       "      <td>983</td>\n",
       "      <td>972</td>\n",
       "      <td>-0.621826</td>\n",
       "      <td>-0.353353</td>\n",
       "      <td>Withdrawn</td>\n",
       "      <td>False</td>\n",
       "    </tr>\n",
       "  </tbody>\n",
       "</table>\n",
       "</div>"
      ],
      "text/plain": [
       "                             request_id  week_id weekday  miles  \\\n",
       "81223  f0293ccd87b445f5989c6c68726608dc        3     Fri    147   \n",
       "81224  f0293ccd87b445f5989c6c68726608dc        3     Fri    147   \n",
       "\n",
       "      order_equipment_type  order_distance  order_num_stops  \\\n",
       "81223                    V           151.0                2   \n",
       "81224                    V           151.0                2   \n",
       "\n",
       "       order_origin_weight  lead_days color  origin_dat_ref  dest_dat_ref  \\\n",
       "81223              45007.0          3   RED             983           972   \n",
       "81224              45007.0          3   RED             983           972   \n",
       "\n",
       "       rate_norm  est_cost_norm CurrentCondition  is_train  \n",
       "81223  -0.621826      -0.353353        Withdrawn     False  \n",
       "81224  -0.621826      -0.353353        Withdrawn     False  "
      ]
     },
     "execution_count": 140,
     "metadata": {},
     "output_type": "execute_result"
    }
   ],
   "source": [
    "ids = dataset[\"request_id\"]\n",
    "dataset[ids.isin(ids[ids.duplicated()])]"
   ]
  },
  {
   "cell_type": "code",
   "execution_count": 54,
   "metadata": {},
   "outputs": [
    {
     "name": "stdout",
     "output_type": "stream",
     "text": [
      "True\n"
     ]
    }
   ],
   "source": [
    "# b. is there missing data? Yes there is missing data\n",
    "print(dataset.isnull().values.any())"
   ]
  },
  {
   "cell_type": "code",
   "execution_count": null,
   "metadata": {},
   "outputs": [],
   "source": []
  },
  {
   "cell_type": "code",
   "execution_count": 64,
   "metadata": {},
   "outputs": [
    {
     "data": {
      "text/plain": [
       "Unnamed: 0                 0\n",
       "request_id                 0\n",
       "week_id                    0\n",
       "weekday                    0\n",
       "miles                      0\n",
       "order_equipment_type       0\n",
       "order_distance          4678\n",
       "order_num_stops            0\n",
       "order_origin_weight       19\n",
       "lead_days                  0\n",
       "color                      0\n",
       "origin_dat_ref             0\n",
       "dest_dat_ref               0\n",
       "rate_norm                181\n",
       "est_cost_norm             39\n",
       "CurrentCondition         118\n",
       "dtype: int64"
      ]
     },
     "execution_count": 64,
     "metadata": {},
     "output_type": "execute_result"
    }
   ],
   "source": [
    "# if so which columns have missing data\n",
    "\n",
    "# finding features that containing no missing values and missing values\n",
    "dataset.isnull().sum()"
   ]
  },
  {
   "cell_type": "code",
   "execution_count": 71,
   "metadata": {},
   "outputs": [
    {
     "name": "stdout",
     "output_type": "stream",
     "text": [
      "order_distance\n",
      "order_origin_weight\n",
      "rate_norm\n",
      "est_cost_norm\n",
      "CurrentCondition\n"
     ]
    }
   ],
   "source": [
    "# dataset['order_distance'].isnull().values.any()\n",
    "# dataset['order_origin_weight'].isnull().values.any()\n",
    "# dataset['rate_norm'].isnull().values.any()\n",
    "# dataset['est_cost_norm'].isnull().values.any()\n",
    "# dataset['CurrentCondition'].isnull().values.any()\n",
    "\n",
    "for col in dataset:\n",
    "    if dataset[col].isnull().values.any() == True:\n",
    "        print(col) # prints features that contain missing values\n",
    "    else: \n",
    "        pass\n"
   ]
  },
  {
   "cell_type": "code",
   "execution_count": 72,
   "metadata": {},
   "outputs": [],
   "source": [
    "# c. Are there any features you would consider highly correlated?\n",
    "# Limit to two pairs and describe why you selected the two pairs\n",
    "# demonstrate numerically and visually import seaborn as sns\n",
    "# Show two visualizations - correlation matrix and heatmap used as visualization"
   ]
  },
  {
   "cell_type": "code",
   "execution_count": 124,
   "metadata": {},
   "outputs": [
    {
     "name": "stdout",
     "output_type": "stream",
     "text": [
      "                      week_id     miles  order_distance  order_num_stops  \\\n",
      "week_id              1.000000  0.019201        0.019802         0.009899   \n",
      "miles                0.019201  1.000000        0.982291         0.057819   \n",
      "order_distance       0.019802  0.982291        1.000000              NaN   \n",
      "order_num_stops      0.009899  0.057819             NaN         1.000000   \n",
      "order_origin_weight  0.000422  0.012212        0.009852         0.025359   \n",
      "lead_days            0.007609  0.025197        0.027990         0.037197   \n",
      "origin_dat_ref       0.001539  0.069189        0.066862         0.004474   \n",
      "dest_dat_ref         0.010358  0.248031        0.246584         0.004028   \n",
      "rate_norm            0.022749  0.697896        0.689225         0.061158   \n",
      "est_cost_norm        0.036973  0.742555        0.730472         0.108425   \n",
      "is_train             0.000386  0.003858        0.004116         0.001907   \n",
      "\n",
      "                     order_origin_weight  lead_days  origin_dat_ref  \\\n",
      "week_id                         0.000422   0.007609        0.001539   \n",
      "miles                           0.012212   0.025197        0.069189   \n",
      "order_distance                  0.009852   0.027990        0.066862   \n",
      "order_num_stops                 0.025359   0.037197        0.004474   \n",
      "order_origin_weight             1.000000   0.009731        0.004263   \n",
      "lead_days                       0.009731   1.000000        0.017822   \n",
      "origin_dat_ref                  0.004263   0.017822        1.000000   \n",
      "dest_dat_ref                    0.003545   0.004046        0.623976   \n",
      "rate_norm                       0.010642   0.005291        0.000007   \n",
      "est_cost_norm                   0.013850   0.003025        0.000004   \n",
      "is_train                        0.002468   0.000062        0.000890   \n",
      "\n",
      "                     dest_dat_ref  rate_norm  est_cost_norm  is_train  \n",
      "week_id                  0.010358   0.022749       0.036973  0.000386  \n",
      "miles                    0.248031   0.697896       0.742555  0.003858  \n",
      "order_distance           0.246584   0.689225       0.730472  0.004116  \n",
      "order_num_stops          0.004028   0.061158       0.108425  0.001907  \n",
      "order_origin_weight      0.003545   0.010642       0.013850  0.002468  \n",
      "lead_days                0.004046   0.005291       0.003025  0.000062  \n",
      "origin_dat_ref           0.623976   0.000007       0.000004  0.000890  \n",
      "dest_dat_ref             1.000000   0.061579       0.048371  0.001975  \n",
      "rate_norm                0.061579   1.000000       0.803012  0.004217  \n",
      "est_cost_norm            0.048371   0.803012       1.000000  0.004096  \n",
      "is_train                 0.001975   0.004217       0.004096  1.000000  \n"
     ]
    },
    {
     "data": {
      "text/plain": [
       "<matplotlib.axes._subplots.AxesSubplot at 0x7f8e10e34a90>"
      ]
     },
     "execution_count": 124,
     "metadata": {},
     "output_type": "execute_result"
    },
    {
     "data": {
      "image/png": "[encoded data removed]",
      "text/plain": [
       "<Figure size 432x288 with 2 Axes>"
      ]
     },
     "metadata": {},
     "output_type": "display_data"
    }
   ],
   "source": [
    "import seaborn as sns\n",
    "\n",
    "corr_matrix = dataset.corr().abs()\n",
    "print(corr_matrix)\n",
    "sns.heatmap(corr_matrix)"
   ]
  },
  {
   "cell_type": "code",
   "execution_count": 125,
   "metadata": {},
   "outputs": [],
   "source": [
    "# Based on the correlation matrix, I would choose the pair closest to 1.0. Thw two pairs I would pick are\n",
    "# order_distance and order_num_stops & miles and est_cost_norm because the each of them are two different variables\n",
    "\n"
   ]
  },
  {
   "cell_type": "code",
   "execution_count": 126,
   "metadata": {},
   "outputs": [],
   "source": [
    "import matplotlib.pyplot as plt"
   ]
  },
  {
   "cell_type": "code",
   "execution_count": 127,
   "metadata": {},
   "outputs": [],
   "source": [
    "col = dataset.columns.values\n",
    "number_of_columns=len(col)\n",
    "number_of_rows = len(col)-1/number_of_columns"
   ]
  },
  {
   "cell_type": "code",
   "execution_count": 134,
   "metadata": {},
   "outputs": [],
   "source": []
  },
  {
   "cell_type": "code",
   "execution_count": 255,
   "metadata": {},
   "outputs": [
    {
     "name": "stdout",
     "output_type": "stream",
     "text": [
      "\n",
      "The summary of data is: \n",
      "              week_id          miles  order_distance  order_num_stops  \\\n",
      "count  161563.000000  161563.000000   156885.000000    161563.000000   \n",
      "mean        2.440559     624.808490      604.038876         2.030781   \n",
      "std         1.125998     563.541693      555.309102         0.198188   \n",
      "min         1.000000       1.000000        0.000000         2.000000   \n",
      "25%         1.000000     236.000000      225.000000         2.000000   \n",
      "50%         2.000000     450.000000      433.000000         2.000000   \n",
      "75%         3.000000     820.000000      795.000000         2.000000   \n",
      "max         4.000000    6171.000000     3274.000000         4.000000   \n",
      "\n",
      "       order_origin_weight      lead_days  origin_dat_ref   dest_dat_ref  \\\n",
      "count         1.615440e+05  161563.000000   161563.000000  161563.000000   \n",
      "mean          3.478955e+04       5.302885      502.882343     528.266973   \n",
      "std           5.731309e+04       5.861072      256.895274     266.437711   \n",
      "min           1.000000e+00    -363.000000       10.000000      10.000000   \n",
      "25%           2.615200e+04       2.000000      303.000000     308.000000   \n",
      "50%           4.090000e+04       4.000000      462.000000     490.000000   \n",
      "75%           4.350400e+04       7.000000      734.000000     765.000000   \n",
      "max           2.123052e+07     365.000000      993.000000     994.000000   \n",
      "\n",
      "           rate_norm  est_cost_norm  \n",
      "count  161382.000000  161524.000000  \n",
      "mean       -0.000004      -0.000002  \n",
      "std         0.997790       0.997738  \n",
      "min        -4.380299      -3.796739  \n",
      "25%        -0.667874      -0.700136  \n",
      "50%        -0.248811      -0.268423  \n",
      "75%         0.440396       0.494081  \n",
      "max        31.589768      11.162772  \n"
     ]
    },
    {
     "data": {
      "text/plain": [
       "Text(0.5, 1.0, 'Data Summary')"
      ]
     },
     "execution_count": 255,
     "metadata": {},
     "output_type": "execute_result"
    },
    {
     "data": {
      "image/png": "[encoded data removed]",
      "text/plain": [
       "<Figure size 1152x1152 with 2 Axes>"
      ]
     },
     "metadata": {},
     "output_type": "display_data"
    }
   ],
   "source": [
    "data_summary_figsize=(16,16)\n",
    "corr_matrix_figsize=(16,16)\n",
    "data_summary_figcol=\"Reds_r\"\n",
    "corr_matrix_figcol='Blues'\n",
    "corr_matrix_annot=False\n",
    "pairplt_col='all'\n",
    "pairplt=False\n",
    "feature_division_figsize=(12,12)\n",
    "\n",
    "print('\\nThe summary of data is: \\n',dataset.describe())\n",
    "plt.figure(figsize=data_summary_figsize)\n",
    "sns.heatmap(dataset.describe()[1:].transpose(), annot= True, fmt=\".1f\",\n",
    "            linecolor=\"black\", linewidths=0.3,cmap=data_summary_figcol)\n",
    "plt.title(\"Data Summary\", fontsize=(15), color=\"red\")\n",
    "    "
   ]
  },
  {
   "cell_type": "code",
   "execution_count": 276,
   "metadata": {},
   "outputs": [],
   "source": [
    "# Dataset featuring no duplicates\n",
    "fname = \"IMA Recommendation Simulation Data.csv\"\n",
    "df = pd.read_csv(fname)"
   ]
  },
  {
   "cell_type": "code",
   "execution_count": 277,
   "metadata": {},
   "outputs": [],
   "source": [
    "df2 = df.drop_duplicates()"
   ]
  },
  {
   "cell_type": "code",
   "execution_count": 278,
   "metadata": {},
   "outputs": [
    {
     "data": {
      "text/html": [
       "<div>\n",
       "<style scoped>\n",
       "    .dataframe tbody tr th:only-of-type {\n",
       "        vertical-align: middle;\n",
       "    }\n",
       "\n",
       "    .dataframe tbody tr th {\n",
       "        vertical-align: top;\n",
       "    }\n",
       "\n",
       "    .dataframe thead th {\n",
       "        text-align: right;\n",
       "    }\n",
       "</style>\n",
       "<table border=\"1\" class=\"dataframe\">\n",
       "  <thead>\n",
       "    <tr style=\"text-align: right;\">\n",
       "      <th></th>\n",
       "      <th>Unnamed: 0</th>\n",
       "      <th>request_id</th>\n",
       "      <th>week_id</th>\n",
       "      <th>weekday</th>\n",
       "      <th>miles</th>\n",
       "      <th>order_equipment_type</th>\n",
       "      <th>order_distance</th>\n",
       "      <th>order_num_stops</th>\n",
       "      <th>order_origin_weight</th>\n",
       "      <th>lead_days</th>\n",
       "      <th>color</th>\n",
       "      <th>origin_dat_ref</th>\n",
       "      <th>dest_dat_ref</th>\n",
       "      <th>rate_norm</th>\n",
       "      <th>est_cost_norm</th>\n",
       "      <th>CurrentCondition</th>\n",
       "    </tr>\n",
       "  </thead>\n",
       "  <tbody>\n",
       "  </tbody>\n",
       "</table>\n",
       "</div>"
      ],
      "text/plain": [
       "Empty DataFrame\n",
       "Columns: [Unnamed: 0, request_id, week_id, weekday, miles, order_equipment_type, order_distance, order_num_stops, order_origin_weight, lead_days, color, origin_dat_ref, dest_dat_ref, rate_norm, est_cost_norm, CurrentCondition]\n",
       "Index: []"
      ]
     },
     "execution_count": 278,
     "metadata": {},
     "output_type": "execute_result"
    }
   ],
   "source": [
    "#Taking away duplicate orders\n",
    "duplicate2 = df2[df2.duplicated()]\n",
    "duplicate2"
   ]
  },
  {
   "cell_type": "code",
   "execution_count": 279,
   "metadata": {},
   "outputs": [
    {
     "data": {
      "text/html": [
       "<div>\n",
       "<style scoped>\n",
       "    .dataframe tbody tr th:only-of-type {\n",
       "        vertical-align: middle;\n",
       "    }\n",
       "\n",
       "    .dataframe tbody tr th {\n",
       "        vertical-align: top;\n",
       "    }\n",
       "\n",
       "    .dataframe thead th {\n",
       "        text-align: right;\n",
       "    }\n",
       "</style>\n",
       "<table border=\"1\" class=\"dataframe\">\n",
       "  <thead>\n",
       "    <tr style=\"text-align: right;\">\n",
       "      <th></th>\n",
       "      <th>request_id</th>\n",
       "      <th>miles</th>\n",
       "      <th>rate_norm</th>\n",
       "      <th>est_cost_norm</th>\n",
       "      <th>CurrentCondition</th>\n",
       "    </tr>\n",
       "  </thead>\n",
       "  <tbody>\n",
       "    <tr>\n",
       "      <th>0</th>\n",
       "      <td>c2653eda11cd4d94879d1946392eb2b5</td>\n",
       "      <td>1856</td>\n",
       "      <td>2.273442</td>\n",
       "      <td>2.138631</td>\n",
       "      <td>Accepted</td>\n",
       "    </tr>\n",
       "    <tr>\n",
       "      <th>1</th>\n",
       "      <td>65e3dcc84a2246e68ea8636a967b31b2</td>\n",
       "      <td>56</td>\n",
       "      <td>-0.971030</td>\n",
       "      <td>-1.017024</td>\n",
       "      <td>Rejected</td>\n",
       "    </tr>\n",
       "    <tr>\n",
       "      <th>2</th>\n",
       "      <td>0a86f005640a4204b46c95ca033a7ced</td>\n",
       "      <td>259</td>\n",
       "      <td>-0.393352</td>\n",
       "      <td>-0.475805</td>\n",
       "      <td>Accepted</td>\n",
       "    </tr>\n",
       "    <tr>\n",
       "      <th>3</th>\n",
       "      <td>1105b4bc7b444f7985d4ad810e7acbc2</td>\n",
       "      <td>71</td>\n",
       "      <td>-0.706546</td>\n",
       "      <td>-0.765855</td>\n",
       "      <td>Rejected</td>\n",
       "    </tr>\n",
       "    <tr>\n",
       "      <th>4</th>\n",
       "      <td>de538100bb0f4137961b9551640ef35e</td>\n",
       "      <td>1182</td>\n",
       "      <td>1.014233</td>\n",
       "      <td>0.469273</td>\n",
       "      <td>Accepted</td>\n",
       "    </tr>\n",
       "  </tbody>\n",
       "</table>\n",
       "</div>"
      ],
      "text/plain": [
       "                         request_id  miles  rate_norm  est_cost_norm  \\\n",
       "0  c2653eda11cd4d94879d1946392eb2b5   1856   2.273442       2.138631   \n",
       "1  65e3dcc84a2246e68ea8636a967b31b2     56  -0.971030      -1.017024   \n",
       "2  0a86f005640a4204b46c95ca033a7ced    259  -0.393352      -0.475805   \n",
       "3  1105b4bc7b444f7985d4ad810e7acbc2     71  -0.706546      -0.765855   \n",
       "4  de538100bb0f4137961b9551640ef35e   1182   1.014233       0.469273   \n",
       "\n",
       "  CurrentCondition  \n",
       "0         Accepted  \n",
       "1         Rejected  \n",
       "2         Accepted  \n",
       "3         Rejected  \n",
       "4         Accepted  "
      ]
     },
     "execution_count": 279,
     "metadata": {},
     "output_type": "execute_result"
    }
   ],
   "source": [
    "selected_columns = df2[[\"request_id\",\"miles\", \"rate_norm\", \"est_cost_norm\", \"CurrentCondition\"]]\n",
    "#Index into desired columns to copy\n",
    "\n",
    "new_df = selected_columns.copy()\n",
    "new_df.head()"
   ]
  },
  {
   "cell_type": "code",
   "execution_count": 280,
   "metadata": {},
   "outputs": [],
   "source": [
    "new_df = new_df.drop(['request_id'], axis = 1)"
   ]
  },
  {
   "cell_type": "code",
   "execution_count": 281,
   "metadata": {},
   "outputs": [
    {
     "data": {
      "text/html": [
       "<div>\n",
       "<style scoped>\n",
       "    .dataframe tbody tr th:only-of-type {\n",
       "        vertical-align: middle;\n",
       "    }\n",
       "\n",
       "    .dataframe tbody tr th {\n",
       "        vertical-align: top;\n",
       "    }\n",
       "\n",
       "    .dataframe thead th {\n",
       "        text-align: right;\n",
       "    }\n",
       "</style>\n",
       "<table border=\"1\" class=\"dataframe\">\n",
       "  <thead>\n",
       "    <tr style=\"text-align: right;\">\n",
       "      <th></th>\n",
       "      <th>miles</th>\n",
       "      <th>rate_norm</th>\n",
       "      <th>est_cost_norm</th>\n",
       "      <th>CurrentCondition</th>\n",
       "    </tr>\n",
       "  </thead>\n",
       "  <tbody>\n",
       "    <tr>\n",
       "      <th>0</th>\n",
       "      <td>1856</td>\n",
       "      <td>2.273442</td>\n",
       "      <td>2.138631</td>\n",
       "      <td>Accepted</td>\n",
       "    </tr>\n",
       "    <tr>\n",
       "      <th>1</th>\n",
       "      <td>56</td>\n",
       "      <td>-0.971030</td>\n",
       "      <td>-1.017024</td>\n",
       "      <td>Rejected</td>\n",
       "    </tr>\n",
       "    <tr>\n",
       "      <th>2</th>\n",
       "      <td>259</td>\n",
       "      <td>-0.393352</td>\n",
       "      <td>-0.475805</td>\n",
       "      <td>Accepted</td>\n",
       "    </tr>\n",
       "    <tr>\n",
       "      <th>3</th>\n",
       "      <td>71</td>\n",
       "      <td>-0.706546</td>\n",
       "      <td>-0.765855</td>\n",
       "      <td>Rejected</td>\n",
       "    </tr>\n",
       "    <tr>\n",
       "      <th>4</th>\n",
       "      <td>1182</td>\n",
       "      <td>1.014233</td>\n",
       "      <td>0.469273</td>\n",
       "      <td>Accepted</td>\n",
       "    </tr>\n",
       "    <tr>\n",
       "      <th>5</th>\n",
       "      <td>1205</td>\n",
       "      <td>0.425589</td>\n",
       "      <td>1.442384</td>\n",
       "      <td>Accepted</td>\n",
       "    </tr>\n",
       "    <tr>\n",
       "      <th>6</th>\n",
       "      <td>952</td>\n",
       "      <td>1.315257</td>\n",
       "      <td>1.643050</td>\n",
       "      <td>Accepted</td>\n",
       "    </tr>\n",
       "    <tr>\n",
       "      <th>7</th>\n",
       "      <td>671</td>\n",
       "      <td>0.570572</td>\n",
       "      <td>-0.126011</td>\n",
       "      <td>Withdrawn</td>\n",
       "    </tr>\n",
       "    <tr>\n",
       "      <th>8</th>\n",
       "      <td>154</td>\n",
       "      <td>-0.154330</td>\n",
       "      <td>-1.282368</td>\n",
       "      <td>Accepted</td>\n",
       "    </tr>\n",
       "    <tr>\n",
       "      <th>9</th>\n",
       "      <td>665</td>\n",
       "      <td>-0.979127</td>\n",
       "      <td>-0.828261</td>\n",
       "      <td>Withdrawn</td>\n",
       "    </tr>\n",
       "  </tbody>\n",
       "</table>\n",
       "</div>"
      ],
      "text/plain": [
       "   miles  rate_norm  est_cost_norm CurrentCondition\n",
       "0   1856   2.273442       2.138631         Accepted\n",
       "1     56  -0.971030      -1.017024         Rejected\n",
       "2    259  -0.393352      -0.475805         Accepted\n",
       "3     71  -0.706546      -0.765855         Rejected\n",
       "4   1182   1.014233       0.469273         Accepted\n",
       "5   1205   0.425589       1.442384         Accepted\n",
       "6    952   1.315257       1.643050         Accepted\n",
       "7    671   0.570572      -0.126011        Withdrawn\n",
       "8    154  -0.154330      -1.282368         Accepted\n",
       "9    665  -0.979127      -0.828261        Withdrawn"
      ]
     },
     "execution_count": 281,
     "metadata": {},
     "output_type": "execute_result"
    }
   ],
   "source": [
    "new_df.head(10)"
   ]
  },
  {
   "cell_type": "code",
   "execution_count": 282,
   "metadata": {},
   "outputs": [],
   "source": [
    "# Thought process was to use the target variable, Current Condition, to get numerical values for each category\n",
    "# CurrentConditionDummyCol = pd.get_dummies(new_df['CurrentCondition'])\n",
    "# new_df = pd.concat((new_df, CurrentConditionDummyCol), axis =1)"
   ]
  },
  {
   "cell_type": "code",
   "execution_count": 283,
   "metadata": {
    "scrolled": true
   },
   "outputs": [
    {
     "data": {
      "text/html": [
       "<div>\n",
       "<style scoped>\n",
       "    .dataframe tbody tr th:only-of-type {\n",
       "        vertical-align: middle;\n",
       "    }\n",
       "\n",
       "    .dataframe tbody tr th {\n",
       "        vertical-align: top;\n",
       "    }\n",
       "\n",
       "    .dataframe thead th {\n",
       "        text-align: right;\n",
       "    }\n",
       "</style>\n",
       "<table border=\"1\" class=\"dataframe\">\n",
       "  <thead>\n",
       "    <tr style=\"text-align: right;\">\n",
       "      <th></th>\n",
       "      <th>miles</th>\n",
       "      <th>rate_norm</th>\n",
       "      <th>est_cost_norm</th>\n",
       "      <th>CurrentCondition</th>\n",
       "    </tr>\n",
       "  </thead>\n",
       "  <tbody>\n",
       "    <tr>\n",
       "      <th>0</th>\n",
       "      <td>1856</td>\n",
       "      <td>2.273442</td>\n",
       "      <td>2.138631</td>\n",
       "      <td>Accepted</td>\n",
       "    </tr>\n",
       "    <tr>\n",
       "      <th>1</th>\n",
       "      <td>56</td>\n",
       "      <td>-0.971030</td>\n",
       "      <td>-1.017024</td>\n",
       "      <td>Rejected</td>\n",
       "    </tr>\n",
       "    <tr>\n",
       "      <th>2</th>\n",
       "      <td>259</td>\n",
       "      <td>-0.393352</td>\n",
       "      <td>-0.475805</td>\n",
       "      <td>Accepted</td>\n",
       "    </tr>\n",
       "    <tr>\n",
       "      <th>3</th>\n",
       "      <td>71</td>\n",
       "      <td>-0.706546</td>\n",
       "      <td>-0.765855</td>\n",
       "      <td>Rejected</td>\n",
       "    </tr>\n",
       "    <tr>\n",
       "      <th>4</th>\n",
       "      <td>1182</td>\n",
       "      <td>1.014233</td>\n",
       "      <td>0.469273</td>\n",
       "      <td>Accepted</td>\n",
       "    </tr>\n",
       "    <tr>\n",
       "      <th>5</th>\n",
       "      <td>1205</td>\n",
       "      <td>0.425589</td>\n",
       "      <td>1.442384</td>\n",
       "      <td>Accepted</td>\n",
       "    </tr>\n",
       "    <tr>\n",
       "      <th>6</th>\n",
       "      <td>952</td>\n",
       "      <td>1.315257</td>\n",
       "      <td>1.643050</td>\n",
       "      <td>Accepted</td>\n",
       "    </tr>\n",
       "    <tr>\n",
       "      <th>7</th>\n",
       "      <td>671</td>\n",
       "      <td>0.570572</td>\n",
       "      <td>-0.126011</td>\n",
       "      <td>Withdrawn</td>\n",
       "    </tr>\n",
       "    <tr>\n",
       "      <th>8</th>\n",
       "      <td>154</td>\n",
       "      <td>-0.154330</td>\n",
       "      <td>-1.282368</td>\n",
       "      <td>Accepted</td>\n",
       "    </tr>\n",
       "    <tr>\n",
       "      <th>9</th>\n",
       "      <td>665</td>\n",
       "      <td>-0.979127</td>\n",
       "      <td>-0.828261</td>\n",
       "      <td>Withdrawn</td>\n",
       "    </tr>\n",
       "  </tbody>\n",
       "</table>\n",
       "</div>"
      ],
      "text/plain": [
       "   miles  rate_norm  est_cost_norm CurrentCondition\n",
       "0   1856   2.273442       2.138631         Accepted\n",
       "1     56  -0.971030      -1.017024         Rejected\n",
       "2    259  -0.393352      -0.475805         Accepted\n",
       "3     71  -0.706546      -0.765855         Rejected\n",
       "4   1182   1.014233       0.469273         Accepted\n",
       "5   1205   0.425589       1.442384         Accepted\n",
       "6    952   1.315257       1.643050         Accepted\n",
       "7    671   0.570572      -0.126011        Withdrawn\n",
       "8    154  -0.154330      -1.282368         Accepted\n",
       "9    665  -0.979127      -0.828261        Withdrawn"
      ]
     },
     "execution_count": 283,
     "metadata": {},
     "output_type": "execute_result"
    }
   ],
   "source": [
    "new_df.head(10)"
   ]
  },
  {
   "cell_type": "code",
   "execution_count": 284,
   "metadata": {},
   "outputs": [
    {
     "data": {
      "text/plain": [
       "<matplotlib.axes._subplots.AxesSubplot at 0x7f8df2b4f790>"
      ]
     },
     "execution_count": 284,
     "metadata": {},
     "output_type": "execute_result"
    },
    {
     "data": {
      "image/png": "[encoded data removed]",
      "text/plain": [
       "<Figure size 432x288 with 2 Axes>"
      ]
     },
     "metadata": {},
     "output_type": "display_data"
    }
   ],
   "source": [
    "sns.heatmap(new_df.isnull())"
   ]
  },
  {
   "cell_type": "code",
   "execution_count": 303,
   "metadata": {},
   "outputs": [],
   "source": [
    "# interpolating missing NaN values\n",
    "new_df.copy().isnull().sum()\n",
    "new_df['rate_norm'] = new_df['rate_norm'].interpolate()\n",
    "new_df['est_cost_norm'] = new_df['est_cost_norm'].interpolate()"
   ]
  },
  {
   "cell_type": "code",
   "execution_count": 330,
   "metadata": {},
   "outputs": [
    {
     "name": "stdout",
     "output_type": "stream",
     "text": [
      "(129250, 3)\n",
      "(32313, 3)\n",
      "(129250,)\n",
      "(32313,)\n"
     ]
    }
   ],
   "source": [
    "# new_df = new_df[new_df['CurrentCondition'].notna()]\n",
    "# df = new_df\n",
    "\n",
    "# convert CurrentCondition to number\n",
    "new_df.CurrentCondition = pd.Categorical(new_df.CurrentCondition)\n",
    "new_df['CurrentCondition'] = new_df.CurrentCondition.cat.codes\n",
    "\n",
    "\n",
    "\n",
    "X = new_df.copy()\n",
    "y = new_df['CurrentCondition'].copy()\n",
    "del X['CurrentCondition']\n",
    "\n",
    "\n",
    "# 3. Create and train and test Split\n",
    "# Split dataset to 80% training and 20% testing\n",
    "from sklearn.model_selection import train_test_split\n",
    "X_train, X_test, y_train, y_test = train_test_split(X,y,test_size = 0.2, random_state = 0)\n",
    "\n",
    "\n",
    "print(X_train.shape)\n",
    "print(X_test.shape)\n",
    "print(y_train.shape)\n",
    "print(y_test.shape)"
   ]
  },
  {
   "cell_type": "code",
   "execution_count": 331,
   "metadata": {},
   "outputs": [],
   "source": [
    "# 3. Create a Train/Test Split\n",
    "\n",
    "#Create Test and Train data\n",
    "# new_df['is_train'] = np.random.uniform(0, 1, len(new_df)) <= .7\n",
    "# pd.set_option('display.max_columns', None)\n",
    "\n",
    "# X = new_df[0:2].values\n",
    "# y = new_df['CurrentCondition'].values"
   ]
  },
  {
   "cell_type": "code",
   "execution_count": 332,
   "metadata": {},
   "outputs": [],
   "source": [
    "# #Split the dataset to 70% training and 30% testing\n",
    "# from sklearn.model_selection import train_test_split\n",
    "# X_train, X_test, y_train, y_test = train_test_split(X,y,test_size = 0.3, random_state = 0)"
   ]
  },
  {
   "cell_type": "code",
   "execution_count": 333,
   "metadata": {},
   "outputs": [
    {
     "data": {
      "text/plain": [
       "0.5967257760034661"
      ]
     },
     "execution_count": 333,
     "metadata": {},
     "output_type": "execute_result"
    }
   ],
   "source": [
    "# #Dedision Tree Calssifier\n",
    "# #np.any(np.isnan(mat))\n",
    "# from sklearn import tree\n",
    "# dt_clf = tree.DecisionTreeClassifier(max_depth = 5)#Build\n",
    "# dt_clf.fit(X_train,y_train) # Train\n",
    "# dt_clf.score(X_test,y_test) # Test\n",
    "\n",
    "# y_pred = dt_clf.predict(X_test) # Predict\n",
    "# dt_clf.score(X_test,y_test)\n",
    "\n",
    "\n"
   ]
  },
  {
   "cell_type": "code",
   "execution_count": 334,
   "metadata": {},
   "outputs": [
    {
     "data": {
      "text/plain": [
       "<matplotlib.axes._subplots.AxesSubplot at 0x7f8ddef32df0>"
      ]
     },
     "execution_count": 334,
     "metadata": {},
     "output_type": "execute_result"
    },
    {
     "data": {
      "image/png": "[encoded data removed]",
      "text/plain": [
       "<Figure size 432x288 with 2 Axes>"
      ]
     },
     "metadata": {},
     "output_type": "display_data"
    }
   ],
   "source": [
    "sns.heatmap(new_df.isnull()) # finding out if there are null values in dataset"
   ]
  },
  {
   "cell_type": "code",
   "execution_count": null,
   "metadata": {},
   "outputs": [],
   "source": [
    "# 4. Build two classifiers that will produce predictions on the Current Condition of a load"
   ]
  },
  {
   "cell_type": "code",
   "execution_count": 346,
   "metadata": {},
   "outputs": [
    {
     "name": "stdout",
     "output_type": "stream",
     "text": [
      "Feature: 0, Score: 0.30148\n",
      "Feature: 1, Score: 0.34025\n",
      "Feature: 2, Score: 0.35827\n"
     ]
    },
    {
     "data": {
      "image/png": "[encoded data removed]",
      "text/plain": [
       "<Figure size 432x288 with 1 Axes>"
      ]
     },
     "metadata": {},
     "output_type": "display_data"
    },
    {
     "name": "stdout",
     "output_type": "stream",
     "text": [
      "CurrentCondition of load prediction:  0.7019775322625569\n"
     ]
    }
   ],
   "source": [
    "#Random Forest Classifier\n",
    "from matplotlib import pyplot\n",
    "from sklearn import ensemble\n",
    "rf_clf = ensemble.RandomForestClassifier(n_estimators = 100)\n",
    "rf_clf.fit(X_train, y_train)\n",
    "importance = rf_clf.feature_importances_\n",
    "# summarize feature importance\n",
    "for i,v in enumerate(importance):\n",
    "\tprint('Feature: %0d, Score: %.5f' % (i,v))\n",
    "# plot feature importance\n",
    "pyplot.bar([x for x in range(len(importance))], importance)\n",
    "pyplot.show()\n",
    "print(\"CurrentCondition of load prediction: \", rf_clf.score(X_test, y_test))"
   ]
  },
  {
   "cell_type": "code",
   "execution_count": 344,
   "metadata": {},
   "outputs": [],
   "source": [
    "# # Gradient Boosting Classifier\n",
    "# gb_clf = ensemble.GradientBoostingClassifier()\n",
    "# gb_clf.fit(X_train, y_train)\n",
    "# print(\"CurrentCondition of load prediction: \", gb_clf.score(X_test, y_test))"
   ]
  },
  {
   "cell_type": "code",
   "execution_count": 340,
   "metadata": {},
   "outputs": [
    {
     "data": {
      "text/plain": [
       "0.6015845015937857"
      ]
     },
     "execution_count": 340,
     "metadata": {},
     "output_type": "execute_result"
    }
   ],
   "source": [
    "# # Tuning the Gradient Boosting Classifier\n",
    "# gb_clf = ensemble.GradientBoostingClassifier(n_estimators = 40)\n",
    "# gb_clf.fit(X_train, y_train)\n",
    "# print(\"CurrentCondition of load prediction: \", gb_clf.score(X_test, y_test))"
   ]
  },
  {
   "cell_type": "code",
   "execution_count": 341,
   "metadata": {},
   "outputs": [
    {
     "data": {
      "text/plain": [
       "0.5859561167332034"
      ]
     },
     "execution_count": 341,
     "metadata": {},
     "output_type": "execute_result"
    }
   ],
   "source": [
    "# # Naive Bayes Classifier\n",
    "# from sklearn.naive_bayes import GaussianNB\n",
    "# nb_clf = GaussianNB()\n",
    "# nb_clf.fit(X_train, y_train)\n",
    "# nb_clf.score(X_test, y_test)"
   ]
  },
  {
   "cell_type": "code",
   "execution_count": 349,
   "metadata": {},
   "outputs": [
    {
     "name": "stdout",
     "output_type": "stream",
     "text": [
      "Feature: 0, Score: -0.00823\n",
      "Feature: 1, Score: 0.02319\n",
      "Feature: 2, Score: 0.02387\n"
     ]
    },
    {
     "name": "stderr",
     "output_type": "stream",
     "text": [
      "/Users/sairamsunkam/opt/anaconda3/lib/python3.8/site-packages/sklearn/linear_model/_logistic.py:762: ConvergenceWarning: lbfgs failed to converge (status=1):\n",
      "STOP: TOTAL NO. of ITERATIONS REACHED LIMIT.\n",
      "\n",
      "Increase the number of iterations (max_iter) or scale the data as shown in:\n",
      "    https://scikit-learn.org/stable/modules/preprocessing.html\n",
      "Please also refer to the documentation for alternative solver options:\n",
      "    https://scikit-learn.org/stable/modules/linear_model.html#logistic-regression\n",
      "  n_iter_i = _check_optimize_result(\n"
     ]
    },
    {
     "data": {
      "image/png": "[encoded data removed]",
      "text/plain": [
       "<Figure size 432x288 with 1 Axes>"
      ]
     },
     "metadata": {},
     "output_type": "display_data"
    }
   ],
   "source": [
    "from sklearn.linear_model import LogisticRegression\n",
    "lr_clf = LogisticRegression()\n",
    "lr_clf.fit(X_train, y_train)\n",
    "lr_clf.score(X_test, y_test)\n",
    "importance = lr_clf.coef_[0]\n",
    "# summarize feature importance\n",
    "for i,v in enumerate(importance):\n",
    "\tprint('Feature: %0d, Score: %.5f' % (i,v))\n",
    "# plot feature importance\n",
    "pyplot.bar([x for x in range(len(importance))], importance)\n",
    "pyplot.show()"
   ]
  },
  {
   "cell_type": "code",
   "execution_count": null,
   "metadata": {},
   "outputs": [],
   "source": [
    "# a. The random forest classifier worked better than the K-Nearest Neighbor Classifier by the fact that\n",
    "# the prediction of the Random forest was higher by 4% than the Logistic Regression Classifier.\n",
    "# Not only is Random Forest predicting well, it deals with handling unbalanced data because \n",
    "# we had a lot of missing values, the classifier made\n",
    "# sure that it would minimize the overall error rate of the what is predicting.\n",
    "# b. In terms of feature importance, the est_cost_norm was the most important feature using the random forest,\n",
    "# however, it seems like all three features had around the same amount of importance in this case.\n",
    "# In the Logistic Regression, the features were not used well, the est_cost_norm was still the highest but not by\n",
    "# much with rate_norm. Those two features are very important to any model as a whole.\n",
    "# c. Because we are not using too many features that are irrelevant to these models. There would not be a concern of \n",
    "# overfitting. The dataset that that modified for the models is not complex as well as the training and testing\n",
    "# data is not too much as well. However, if we were to use the original dataset, the model would have trouble in not\n",
    "# overfitting as it is a complex dataset."
   ]
  },
  {
   "cell_type": "code",
   "execution_count": null,
   "metadata": {},
   "outputs": [],
   "source": [
    "# 5. Questions about the dataset\n",
    "# Why was the dataset given missing so many values?\n",
    "# Why are there cases in the dataset where we are lossing profit, but accepting the order?\n",
    "\n",
    "# As an employee, I would talk to the people around me that are more experienced in handling data cleaning\n",
    "# and data handling and they can answer why there are a lot of data that is missing.\n",
    "\n",
    "# I would ask the business analyst why as a company are we doing this and they would give the run-down\n",
    "# on why the business is handling the process this way."
   ]
  }
 ],
 "metadata": {
  "kernelspec": {
   "display_name": "Python 3",
   "language": "python",
   "name": "python3"
  },
  "language_info": {
   "codemirror_mode": {
    "name": "ipython",
    "version": 3
   },
   "file_extension": ".py",
   "mimetype": "text/x-python",
   "name": "python",
   "nbconvert_exporter": "python",
   "pygments_lexer": "ipython3",
   "version": "3.8.3"
  }
 },
 "nbformat": 4,
 "nbformat_minor": 4
}
